{
 "cells": [
  {
   "cell_type": "code",
   "execution_count": 35,
   "metadata": {},
   "outputs": [],
   "source": [
    "import yfinance as yf\n",
    "import pandas as pd"
   ]
  },
  {
   "cell_type": "code",
   "execution_count": 36,
   "metadata": {},
   "outputs": [],
   "source": [
    "ZCN24 = 'ZCN24.CBT'\n",
    "codes_list = ['ZCN24.CBT','ZCU24.CBT', 'ZCZ24.CBT','ZCH25.CBT','ZCK25.CBT','ZCN25.CBT','ZCU25.CBT','ZCZ25.CBT','ZCH26.CBT','ZCK26.CBT','ZCN26.CBT','ZCU26.CBT','ZCZ26.CBT','ZCN27.CBT','ZCZ27.CBT']\n",
    "dfs_list = []\n",
    "for i in codes_list:\n",
    "#for each code in codes list(all available contracts atm), I create a ticker element \n",
    "#pull the historical dataframe and append to a list\n",
    "    i_ticker = yf.Ticker(i)\n",
    "\n",
    "    i_df = i_ticker.history(period = 'max')\n",
    "    dfs_list.append(i_df)\n"
   ]
  },
  {
   "cell_type": "code",
   "execution_count": 37,
   "metadata": {},
   "outputs": [
    {
     "name": "stdout",
     "output_type": "stream",
     "text": [
      "                             Open    High     Low   Close  Volume  Dividends  \\\n",
      "Date                                                                           \n",
      "2022-12-14 00:00:00-05:00  567.75  567.75  567.75  567.75       0        0.0   \n",
      "2022-12-15 00:00:00-05:00  569.25  569.25  569.25  569.25       1        0.0   \n",
      "2022-12-16 00:00:00-05:00  560.00  567.50  560.00  567.50       1        0.0   \n",
      "2022-12-19 00:00:00-05:00  567.50  567.50  567.50  567.50       0        0.0   \n",
      "2022-12-20 00:00:00-05:00  570.00  570.00  565.50  565.50       1        0.0   \n",
      "...                           ...     ...     ...     ...     ...        ...   \n",
      "2024-06-10 00:00:00-04:00  479.50  482.50  479.00  480.25   15867        0.0   \n",
      "2024-06-11 00:00:00-04:00  479.75  483.50  476.50  477.25   15758        0.0   \n",
      "2024-06-12 00:00:00-04:00  476.50  480.50  474.00  479.75   18936        0.0   \n",
      "2024-06-13 00:00:00-04:00  479.75  487.00  479.50  486.25   24521        0.0   \n",
      "2024-06-14 00:00:00-04:00  485.75  488.00  479.00  481.25   24521        0.0   \n",
      "\n",
      "                           Stock Splits  \n",
      "Date                                     \n",
      "2022-12-14 00:00:00-05:00           0.0  \n",
      "2022-12-15 00:00:00-05:00           0.0  \n",
      "2022-12-16 00:00:00-05:00           0.0  \n",
      "2022-12-19 00:00:00-05:00           0.0  \n",
      "2022-12-20 00:00:00-05:00           0.0  \n",
      "...                                 ...  \n",
      "2024-06-10 00:00:00-04:00           0.0  \n",
      "2024-06-11 00:00:00-04:00           0.0  \n",
      "2024-06-12 00:00:00-04:00           0.0  \n",
      "2024-06-13 00:00:00-04:00           0.0  \n",
      "2024-06-14 00:00:00-04:00           0.0  \n",
      "\n",
      "[377 rows x 7 columns]\n"
     ]
    }
   ],
   "source": [
    "dfs_dct = dict(zip(codes_list, dfs_list))\n",
    "#merge the 2 lists into a dict with names of the contracts as keys and dfs as vals\n"
   ]
  },
  {
   "cell_type": "code",
   "execution_count": 43,
   "metadata": {},
   "outputs": [
    {
     "name": "stdout",
     "output_type": "stream",
     "text": [
      "                                Open       High        Low      Close  Volume  \\\n",
      "Date                                                                            \n",
      "1990-01-02 00:00:00-06:00  17.240000  17.240000  17.240000  17.240000       0   \n",
      "1990-01-03 00:00:00-06:00  18.190001  18.190001  18.190001  18.190001       0   \n",
      "1990-01-04 00:00:00-06:00  19.219999  19.219999  19.219999  19.219999       0   \n",
      "1990-01-05 00:00:00-06:00  20.110001  20.110001  20.110001  20.110001       0   \n",
      "1990-01-08 00:00:00-06:00  20.260000  20.260000  20.260000  20.260000       0   \n",
      "...                              ...        ...        ...        ...     ...   \n",
      "2024-06-10 00:00:00-05:00  13.090000  13.280000  12.620000  12.740000       0   \n",
      "2024-06-11 00:00:00-05:00  12.850000  13.470000  12.780000  12.850000       0   \n",
      "2024-06-12 00:00:00-05:00  13.100000  13.150000  11.940000  12.040000       0   \n",
      "2024-06-13 00:00:00-05:00  12.050000  12.680000  11.880000  11.940000       0   \n",
      "2024-06-14 00:00:00-05:00  12.220000  13.450000  12.120000  12.660000       0   \n",
      "\n",
      "                           Dividends  Stock Splits  \n",
      "Date                                                \n",
      "1990-01-02 00:00:00-06:00        0.0           0.0  \n",
      "1990-01-03 00:00:00-06:00        0.0           0.0  \n",
      "1990-01-04 00:00:00-06:00        0.0           0.0  \n",
      "1990-01-05 00:00:00-06:00        0.0           0.0  \n",
      "1990-01-08 00:00:00-06:00        0.0           0.0  \n",
      "...                              ...           ...  \n",
      "2024-06-10 00:00:00-05:00        0.0           0.0  \n",
      "2024-06-11 00:00:00-05:00        0.0           0.0  \n",
      "2024-06-12 00:00:00-05:00        0.0           0.0  \n",
      "2024-06-13 00:00:00-05:00        0.0           0.0  \n",
      "2024-06-14 00:00:00-05:00        0.0           0.0  \n",
      "\n",
      "[8680 rows x 7 columns]\n"
     ]
    }
   ],
   "source": [
    "VIX_ticker = yf.Ticker(r'^VIX')\n",
    "VIX_df = VIX_ticker.history(period = 'max')\n",
    "print(VIX_df)"
   ]
  }
 ],
 "metadata": {
  "kernelspec": {
   "display_name": "base",
   "language": "python",
   "name": "python3"
  },
  "language_info": {
   "codemirror_mode": {
    "name": "ipython",
    "version": 3
   },
   "file_extension": ".py",
   "mimetype": "text/x-python",
   "name": "python",
   "nbconvert_exporter": "python",
   "pygments_lexer": "ipython3",
   "version": "3.11.4"
  }
 },
 "nbformat": 4,
 "nbformat_minor": 2
}
