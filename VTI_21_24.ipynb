{
 "cells": [
  {
   "cell_type": "code",
   "execution_count": 1,
   "metadata": {},
   "outputs": [],
   "source": [
    "import yfinance as yf #temp change\n",
    "import pandas as pd"
   ]
  },
  {
   "cell_type": "code",
   "execution_count": 14,
   "metadata": {},
   "outputs": [
    {
     "name": "stdout",
     "output_type": "stream",
     "text": [
      "Historical data for ^VIX:\n",
      "                            Open       High        Low      Close  Volume  \\\n",
      "Date                                                                        \n",
      "2020-12-15 00:00:00-06:00  24.00  24.070000  22.730000  22.889999       0   \n",
      "2020-12-16 00:00:00-06:00  22.51  23.670000  22.290001  22.500000       0   \n",
      "2020-12-17 00:00:00-06:00  21.98  22.270000  21.520000  21.930000       0   \n",
      "2020-12-18 00:00:00-06:00  22.15  23.770000  21.570000  21.570000       0   \n",
      "2020-12-21 00:00:00-06:00  24.25  31.459999  24.230000  25.160000       0   \n",
      "\n",
      "                           Dividends  Stock Splits  \n",
      "Date                                                \n",
      "2020-12-15 00:00:00-06:00        0.0           0.0  \n",
      "2020-12-16 00:00:00-06:00        0.0           0.0  \n",
      "2020-12-17 00:00:00-06:00        0.0           0.0  \n",
      "2020-12-18 00:00:00-06:00        0.0           0.0  \n",
      "2020-12-21 00:00:00-06:00        0.0           0.0  \n"
     ]
    }
   ],
   "source": [
    "vix_code = '^VIX'\n",
    "vix_ticker= yf.Ticker(vix_code)\n",
    "\n",
    "vix_df = vix_ticker.history(start='2020-12-15')\n",
    "\n",
    "print(f\"Historical data for {vix_code}:\")\n",
    "print(vix_df.head())"
   ]
  }
 ],
 "metadata": {
  "kernelspec": {
   "display_name": "Python 3",
   "language": "python",
   "name": "python3"
  },
  "language_info": {
   "codemirror_mode": {
    "name": "ipython",
    "version": 3
   },
   "file_extension": ".py",
   "mimetype": "text/x-python",
   "name": "python",
   "nbconvert_exporter": "python",
   "pygments_lexer": "ipython3",
   "version": "3.12.3"
  }
 },
 "nbformat": 4,
 "nbformat_minor": 2
}
