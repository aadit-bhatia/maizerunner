{
 "cells": [
  {
   "cell_type": "code",
   "execution_count": 1,
   "metadata": {},
   "outputs": [],
   "source": [
    "import yfinance as yf #temp change\n",
    "import pandas as pd"
   ]
  },
  {
   "cell_type": "code",
   "execution_count": 6,
   "metadata": {},
   "outputs": [
    {
     "name": "stdout",
     "output_type": "stream",
     "text": [
      "Historical data for ^VIX:\n",
      "                                Open       High        Low      Close  Volume  \\\n",
      "Date                                                                            \n",
      "1990-01-02 00:00:00-06:00  17.240000  17.240000  17.240000  17.240000       0   \n",
      "1990-01-03 00:00:00-06:00  18.190001  18.190001  18.190001  18.190001       0   \n",
      "1990-01-04 00:00:00-06:00  19.219999  19.219999  19.219999  19.219999       0   \n",
      "1990-01-05 00:00:00-06:00  20.110001  20.110001  20.110001  20.110001       0   \n",
      "1990-01-08 00:00:00-06:00  20.260000  20.260000  20.260000  20.260000       0   \n",
      "\n",
      "                           Dividends  Stock Splits  \n",
      "Date                                                \n",
      "1990-01-02 00:00:00-06:00        0.0           0.0  \n",
      "1990-01-03 00:00:00-06:00        0.0           0.0  \n",
      "1990-01-04 00:00:00-06:00        0.0           0.0  \n",
      "1990-01-05 00:00:00-06:00        0.0           0.0  \n",
      "1990-01-08 00:00:00-06:00        0.0           0.0  \n"
     ]
    }
   ],
   "source": [
    "vix_code = '^VIX'\n",
    "vix_ticker= yf.Ticker(vix_code)\n",
    "\n",
    "vix_df = vix_ticker.history(period='max')\n",
    "\n",
    "print(f\"Historical data for {vix_code}:\")\n",
    "print(vix_df.head())"
   ]
  }
 ],
 "metadata": {
  "kernelspec": {
   "display_name": "Python 3",
   "language": "python",
   "name": "python3"
  },
  "language_info": {
   "codemirror_mode": {
    "name": "ipython",
    "version": 3
   },
   "file_extension": ".py",
   "mimetype": "text/x-python",
   "name": "python",
   "nbconvert_exporter": "python",
   "pygments_lexer": "ipython3",
   "version": "3.12.3"
  }
 },
 "nbformat": 4,
 "nbformat_minor": 2
}
