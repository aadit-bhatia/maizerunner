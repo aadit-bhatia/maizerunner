{
 "cells": [
  {
   "cell_type": "code",
   "execution_count": 1,
   "metadata": {},
   "outputs": [],
   "source": [
    "import yfinance as yf\n",
    "import pandas as pd"
   ]
  },
  {
   "cell_type": "code",
   "execution_count": 4,
   "metadata": {},
   "outputs": [],
   "source": [
    "vix_codes_list = ['^VIX']\n",
    "vix_dfs_list = []\n",
    "\n",
    "for vix_code in vix_codes_list:\n",
    "      vix_ticker = yf.Ticker(vix_code)\n",
    "      vix_df = vix_ticker.history(period='max')\n",
    "      vix_dfs_list.append(vix_df)"
   ]
  },
  {
   "cell_type": "code",
   "execution_count": 5,
   "metadata": {},
   "outputs": [
    {
     "name": "stdout",
     "output_type": "stream",
     "text": [
      "{'^VIX':                                 Open       High        Low      Close  Volume  \\\n",
      "Date                                                                            \n",
      "1990-01-02 00:00:00-06:00  17.240000  17.240000  17.240000  17.240000       0   \n",
      "1990-01-03 00:00:00-06:00  18.190001  18.190001  18.190001  18.190001       0   \n",
      "1990-01-04 00:00:00-06:00  19.219999  19.219999  19.219999  19.219999       0   \n",
      "1990-01-05 00:00:00-06:00  20.110001  20.110001  20.110001  20.110001       0   \n",
      "1990-01-08 00:00:00-06:00  20.260000  20.260000  20.260000  20.260000       0   \n",
      "...                              ...        ...        ...        ...     ...   \n",
      "2024-06-10 00:00:00-05:00  13.090000  13.280000  12.620000  12.740000       0   \n",
      "2024-06-11 00:00:00-05:00  12.850000  13.470000  12.780000  12.850000       0   \n",
      "2024-06-12 00:00:00-05:00  13.100000  13.150000  11.940000  12.040000       0   \n",
      "2024-06-13 00:00:00-05:00  12.050000  12.680000  11.880000  11.940000       0   \n",
      "2024-06-14 00:00:00-05:00  12.220000  13.450000  12.120000  12.660000       0   \n",
      "\n",
      "                           Dividends  Stock Splits  \n",
      "Date                                                \n",
      "1990-01-02 00:00:00-06:00        0.0           0.0  \n",
      "1990-01-03 00:00:00-06:00        0.0           0.0  \n",
      "1990-01-04 00:00:00-06:00        0.0           0.0  \n",
      "1990-01-05 00:00:00-06:00        0.0           0.0  \n",
      "1990-01-08 00:00:00-06:00        0.0           0.0  \n",
      "...                              ...           ...  \n",
      "2024-06-10 00:00:00-05:00        0.0           0.0  \n",
      "2024-06-11 00:00:00-05:00        0.0           0.0  \n",
      "2024-06-12 00:00:00-05:00        0.0           0.0  \n",
      "2024-06-13 00:00:00-05:00        0.0           0.0  \n",
      "2024-06-14 00:00:00-05:00        0.0           0.0  \n",
      "\n",
      "[8680 rows x 7 columns]}\n"
     ]
    }
   ],
   "source": [
    "dfs_dct = dict(zip(vix_codes_list, vix_dfs_list))\n",
    "\n",
    "print(dfs_dct)"
   ]
  }
 ],
 "metadata": {
  "kernelspec": {
   "display_name": "Python 3",
   "language": "python",
   "name": "python3"
  },
  "language_info": {
   "codemirror_mode": {
    "name": "ipython",
    "version": 3
   },
   "file_extension": ".py",
   "mimetype": "text/x-python",
   "name": "python",
   "nbconvert_exporter": "python",
   "pygments_lexer": "ipython3",
   "version": "3.12.3"
  }
 },
 "nbformat": 4,
 "nbformat_minor": 2
}
