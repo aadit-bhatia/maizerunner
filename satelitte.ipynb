{
 "cells": [
  {
   "cell_type": "code",
   "execution_count": 8,
   "metadata": {},
   "outputs": [],
   "source": [
    "\n",
    "import ee\n",
    "import pandas as pd\n",
    "import matplotlib.pyplot as plt\n"
   ]
  },
  {
   "cell_type": "code",
   "execution_count": 9,
   "metadata": {},
   "outputs": [],
   "source": [
    "ee.Initialize(project='ee-bhatia-research')"
   ]
  },
  {
   "cell_type": "code",
   "execution_count": null,
   "metadata": {},
   "outputs": [],
   "source": []
  },
  {
   "cell_type": "code",
   "execution_count": 10,
   "metadata": {},
   "outputs": [],
   "source": [
    "#collection of land coverage\n",
    "\n",
    "# Land surface temp.\n",
    "lst = ee.ImageCollection(\"MODIS/061/MOD11A1\") \n",
    "\n"
   ]
  },
  {
   "cell_type": "code",
   "execution_count": 11,
   "metadata": {},
   "outputs": [],
   "source": [
    "# Initial date of interest (inclusive).\n",
    "i_date = '2018-01-01'\n",
    "\n",
    "# Final date of interest (exclusive).\n",
    "f_date = '2024-01-01'\n",
    "\n",
    "# Selection of appropriate bands and dates for LST.\n",
    "lst = lst.select('LST_Day_1km', 'QC_Day').filterDate(i_date, f_date)"
   ]
  },
  {
   "cell_type": "code",
   "execution_count": 24,
   "metadata": {},
   "outputs": [
    {
     "name": "stdout",
     "output_type": "stream",
     "text": [
      "1\n"
     ]
    }
   ],
   "source": [
    "filename = 'world_cereals_scaled_final_all.csv'\n",
    "chunks = []\n",
    "counter = 0\n",
    "\n",
    "for chunk in pd.read_csv(filename, chunksize=1000):\n",
    "    # Processing each chunk\n",
    "    df = chunk.copy()  # Make a copy to avoid modifying the original chunk\n",
    "    df = df[df['Crop'] == 'Maize']\n",
    "    \n",
    "    # Append the modified chunk to the list of chunks\n",
    "    chunks.append(df)\n",
    "    \n",
    "    counter += 1\n",
    "    print(counter)\n",
    "    \n",
    "    # Break out of the loop after processing the first chunk\n",
    "    break\n",
    "\n",
    "df = pd.concat(chunks, ignore_index=True)"
   ]
  },
  {
   "cell_type": "code",
   "execution_count": 25,
   "metadata": {},
   "outputs": [
    {
     "name": "stdout",
     "output_type": "stream",
     "text": [
      "<bound method NDFrame.describe of      Unnamed: 0        lon        lat   Crop Country (Admin 0)  \\\n",
      "0             0 -62.663466 -19.297688  Maize           Bolivia   \n",
      "1             1 -62.955466 -19.531271  Maize           Bolivia   \n",
      "2             2 -62.807133 -19.596771  Maize           Bolivia   \n",
      "3             3 -62.991550 -19.735437  Maize           Bolivia   \n",
      "4             4 -62.974216 -19.668354  Maize           Bolivia   \n",
      "..          ...        ...        ...    ...               ...   \n",
      "995         995 -63.332133 -22.448597  Maize         Argentina   \n",
      "996         996 -63.297800 -22.399431  Maize         Argentina   \n",
      "997         997 -63.287133 -22.455764  Maize         Argentina   \n",
      "998         998 -63.261133 -22.404847  Maize         Argentina   \n",
      "999         999 -63.293633 -22.396264  Maize         Argentina   \n",
      "\n",
      "    State (Admin 1)        Region (World Bank)      Subregion      Continent  \\\n",
      "0        Santa Cruz  Latin America & Caribbean  South America  South America   \n",
      "1        Santa Cruz  Latin America & Caribbean  South America  South America   \n",
      "2        Santa Cruz  Latin America & Caribbean  South America  South America   \n",
      "3        Santa Cruz  Latin America & Caribbean  South America  South America   \n",
      "4        Santa Cruz  Latin America & Caribbean  South America  South America   \n",
      "..              ...                        ...            ...            ...   \n",
      "995           Salta  Latin America & Caribbean  South America  South America   \n",
      "996           Salta  Latin America & Caribbean  South America  South America   \n",
      "997           Salta  Latin America & Caribbean  South America  South America   \n",
      "998           Salta  Latin America & Caribbean  South America  South America   \n",
      "999           Salta  Latin America & Caribbean  South America  South America   \n",
      "\n",
      "     aez_id  \n",
      "0      2154  \n",
      "1      2154  \n",
      "2      2154  \n",
      "3      2154  \n",
      "4      2154  \n",
      "..      ...  \n",
      "995    2154  \n",
      "996    2154  \n",
      "997    2154  \n",
      "998    2154  \n",
      "999    2154  \n",
      "\n",
      "[1000 rows x 10 columns]>\n"
     ]
    }
   ],
   "source": [
    "print(df.describe)"
   ]
  },
  {
   "cell_type": "code",
   "execution_count": 26,
   "metadata": {},
   "outputs": [],
   "source": [
    "def create_gee_point(row):\n",
    "    return ee.Geometry.Point([row['lon'], row['lat']])\n",
    "\n",
    "df['GEE_Point'] = df.apply(create_gee_point, axis=1)"
   ]
  },
  {
   "cell_type": "code",
   "execution_count": 27,
   "metadata": {},
   "outputs": [],
   "source": [
    "def extract_lst(point, start_date, end_date):\n",
    "    lst = ee.ImageCollection(\"MODIS/061/MOD11A1\") \\\n",
    "            .select('LST_Day_1km') \\\n",
    "            .filterDate(start_date, end_date) \\\n",
    "            .filterBounds(point)\n",
    "    \n",
    "    def get_lst(image):\n",
    "        lst_value = image.reduceRegion(reducer=ee.Reducer.mean(), geometry=point, scale=1000)\n",
    "        return ee.Feature(None, {'LST_Day_1km': lst_value.get('LST_Day_1km'), 'date': image.date().format('YYYY-MM-dd')})\n",
    "    \n",
    "    lst_series = lst.map(get_lst).getInfo()\n",
    "    lst_data = {}\n",
    "    for feature in lst_series['features']:\n",
    "        properties = feature['properties']\n",
    "        date = properties['date']\n",
    "        lst_data[date] = properties.get('LST_Day_1km', None)  # Use .get to avoid KeyError\n",
    "    \n",
    "    return lst_data\n"
   ]
  },
  {
   "cell_type": "code",
   "execution_count": 28,
   "metadata": {},
   "outputs": [],
   "source": [
    "lst_data = {}\n",
    "for index, row in df.iterrows():\n",
    "    point = row['GEE_Point']\n",
    "    point_id = f\"Point_{index}\"\n",
    "    lst_data[point_id] = extract_lst(point, i_date, f_date)"
   ]
  },
  {
   "cell_type": "code",
   "execution_count": 29,
   "metadata": {},
   "outputs": [],
   "source": [
    "for point_id, data in lst_data.items():\n",
    "    for date, temp in data.items():\n",
    "        if temp is not None:\n",
    "            data[date] = (temp * 0.02) - 273.15\n",
    "        else:\n",
    "            data[date] = None"
   ]
  },
  {
   "cell_type": "code",
   "execution_count": null,
   "metadata": {},
   "outputs": [],
   "source": [
    "all_dates = pd.date_range(start=i_date, end=f_date, freq='D').strftime('%Y-%m-%d')\n",
    "\n",
    "# Initialize an empty DataFrame with dates as the index\n",
    "temperature_df = pd.DataFrame(index=all_dates)\n",
    "\n",
    "# Populate the DataFrame with the extracted LST data\n",
    "for point_id, data in lst_data.items():\n",
    "    temperature_df[point_id] = pd.Series(data)\n",
    "temperature_df.dropna(inplace=True)"
   ]
  },
  {
   "cell_type": "code",
   "execution_count": 35,
   "metadata": {},
   "outputs": [
    {
     "name": "stdout",
     "output_type": "stream",
     "text": [
      "            Point_0  Point_1  Point_2  Point_3  Point_4  Point_5  Point_6  \\\n",
      "2018-02-22    36.37    29.15    30.11    28.43    28.99    29.59    32.19   \n",
      "2018-05-13    31.31    28.81    28.21    29.57    27.29    27.55    30.87   \n",
      "2018-05-20    28.39    24.83    23.63    26.59    24.03    24.55    26.69   \n",
      "2018-08-10    29.67    28.87    27.03    30.13    29.85    29.87    32.89   \n",
      "2018-08-12    34.53    32.21    31.53    33.21    33.57    32.99    35.11   \n",
      "...             ...      ...      ...      ...      ...      ...      ...   \n",
      "2023-08-17    35.39    35.43    34.43    34.99    35.17    35.77    35.77   \n",
      "2023-09-10    37.37    37.73    35.73    35.79    30.27    31.67    35.17   \n",
      "2023-09-15    36.97    37.73    34.93    38.09    37.87    38.59    39.07   \n",
      "2023-09-17    40.09    42.27    40.31    41.15    41.89    41.93    41.43   \n",
      "2023-09-22    40.07    43.35    40.61    42.47    43.45    43.61    43.03   \n",
      "\n",
      "            Point_7  Point_8  Point_9  ...  Point_990  Point_991  Point_992  \\\n",
      "2018-02-22    30.27    31.75    31.97  ...      32.11      28.23      32.11   \n",
      "2018-05-13    28.55    28.97    29.77  ...      27.35      25.01      27.35   \n",
      "2018-05-20    25.45    25.31    26.55  ...      22.91      21.53      22.91   \n",
      "2018-08-10    29.93    32.15    30.99  ...      26.85      23.07      26.85   \n",
      "2018-08-12    33.11    34.81    34.05  ...      31.61      27.33      31.61   \n",
      "...             ...      ...      ...  ...        ...        ...        ...   \n",
      "2023-08-17    35.49    36.09    35.81  ...      37.63      33.09      37.63   \n",
      "2023-09-10    33.69    34.57    30.83  ...      39.05      32.85      39.05   \n",
      "2023-09-15    37.91    38.55    37.93  ...      35.11      32.27      35.11   \n",
      "2023-09-17    41.51    41.97    41.31  ...      42.85      37.91      42.85   \n",
      "2023-09-22    42.53    43.41    42.79  ...      44.81      38.09      44.81   \n",
      "\n",
      "            Point_993  Point_994  Point_995  Point_996  Point_997  Point_998  \\\n",
      "2018-02-22      32.75      29.27      32.39      28.61      28.19      29.57   \n",
      "2018-05-13      26.13      28.41      27.57      25.81      27.71      26.91   \n",
      "2018-05-20      22.55      23.83      22.71      21.91      23.09      23.35   \n",
      "2018-08-10      27.45      26.53      28.29      23.85      27.83      26.07   \n",
      "2018-08-12      32.01      30.91      31.43      27.95      32.43      30.39   \n",
      "...               ...        ...        ...        ...        ...        ...   \n",
      "2023-08-17      36.95      33.93      37.37      33.01      35.89      36.67   \n",
      "2023-09-10      38.39      34.87      38.47      33.63      37.65      38.51   \n",
      "2023-09-15      35.19      33.17      35.31      32.17      35.45      35.49   \n",
      "2023-09-17      42.07      40.03      42.89      38.69      42.33      43.45   \n",
      "2023-09-22      43.67      40.33      44.27      39.07      43.23      43.71   \n",
      "\n",
      "            Point_999  \n",
      "2018-02-22      29.11  \n",
      "2018-05-13      26.55  \n",
      "2018-05-20      23.17  \n",
      "2018-08-10      26.27  \n",
      "2018-08-12      30.03  \n",
      "...               ...  \n",
      "2023-08-17      35.47  \n",
      "2023-09-10      37.49  \n",
      "2023-09-15      34.59  \n",
      "2023-09-17      42.13  \n",
      "2023-09-22      43.43  \n",
      "\n",
      "[97 rows x 1000 columns]\n",
      "                   PC1        PC2        PC3        PC4        PC5        PC6  \\\n",
      "2023-08-17    8.848684 -18.428250  -3.022106  -5.122008 -15.727777  -7.756328   \n",
      "2023-09-10   36.642940 -29.844351 -17.218097  -3.049319  -4.313814   9.072719   \n",
      "2023-09-15   -2.415885  -4.490740   2.684320  -3.580972 -15.852367   7.969451   \n",
      "2023-09-17  208.617472 -12.724330 -15.582479  -9.306487 -14.161780  14.178670   \n",
      "2023-09-22  239.906202  -2.552584  -9.504171 -14.360750 -12.345875   5.698621   \n",
      "\n",
      "                 PC7       PC8        PC9       PC10  \n",
      "2023-08-17  6.586784 -6.489392   6.740559  -1.336082  \n",
      "2023-09-10  6.658341 -3.978012  14.517203  11.690857  \n",
      "2023-09-15  1.946776  8.743430   2.870529   8.043259  \n",
      "2023-09-17  1.128283 -4.432362   8.112837   4.189012  \n",
      "2023-09-22  0.905561 -6.489631   7.559357   0.084722  \n"
     ]
    }
   ],
   "source": [
    "from sklearn.decomposition import PCA\n",
    "print(temperature_df)\n",
    "\n",
    "pca = PCA(n_components=10)  # Adjust the number of components as needed\n",
    "principal_components = pca.fit_transform(temperature_df)\n",
    "\n",
    "# Create a new DataFrame with the principal components\n",
    "pca_columns = [f'PC{i+1}' for i in range(principal_components.shape[1])]\n",
    "pca_df = pd.DataFrame(principal_components, index=temperature_df.index, columns=pca_columns)\n",
    "\n",
    "# Check the DataFrame with principal components\n",
    "print(pca_df.tail())"
   ]
  }
 ],
 "metadata": {
  "kernelspec": {
   "display_name": "base",
   "language": "python",
   "name": "python3"
  },
  "language_info": {
   "codemirror_mode": {
    "name": "ipython",
    "version": 3
   },
   "file_extension": ".py",
   "mimetype": "text/x-python",
   "name": "python",
   "nbconvert_exporter": "python",
   "pygments_lexer": "ipython3",
   "version": "3.11.4"
  }
 },
 "nbformat": 4,
 "nbformat_minor": 2
}
